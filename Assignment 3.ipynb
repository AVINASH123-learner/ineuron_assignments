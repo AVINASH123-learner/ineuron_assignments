{
 "cells": [
  {
   "cell_type": "raw",
   "id": "4d93dc10",
   "metadata": {},
   "source": [
    "1.1 Write a Python Program to implement your own myreduce() function which works exactly like Python's built-in function reduce()"
   ]
  },
  {
   "cell_type": "code",
   "execution_count": 1,
   "id": "c436b15b",
   "metadata": {},
   "outputs": [
    {
     "name": "stdout",
     "output_type": "stream",
     "text": [
      "Output with built-in function reduce() :  72\n",
      "Output with custom myreduce() :  72\n"
     ]
    }
   ],
   "source": [
    "from functools import reduce\n",
    "\n",
    "\n",
    "def minus(a, b):\n",
    "    return a-b\n",
    "\n",
    "\n",
    "l = [100, 3, 2, 1, 9, 6, 7]\n",
    "\n",
    "print(\"Output with built-in function reduce() : \", reduce(minus, l))\n",
    "\n",
    "# creating custom myreduce function\n",
    "def myreduce(function, sequence):\n",
    "    first_ele = sequence[0] \n",
    "    for next_ele in sequence[1:]:\n",
    "        first_ele = function(first_ele, next_ele)\n",
    "    return first_ele\n",
    "\n",
    "\n",
    "print(\"Output with custom myreduce() : \", myreduce(minus, l))"
   ]
  },
  {
   "cell_type": "markdown",
   "id": "5b33bfc9",
   "metadata": {},
   "source": [
    "1.2 Write a Python program to implement your own myfilter() function which works exactly like Python's built-in function filter()"
   ]
  },
  {
   "cell_type": "code",
   "execution_count": 2,
   "id": "60194260",
   "metadata": {},
   "outputs": [
    {
     "name": "stdout",
     "output_type": "stream",
     "text": [
      "Output with built-in function filter() :  [5, 15, 25, 35, 45]\n",
      "Output with custom myfilter() :  [5, 15, 25, 35, 45]\n"
     ]
    }
   ],
   "source": [
    "def odd_number(num):\n",
    "    if num % 2 == 0:\n",
    "        return False\n",
    "    else:\n",
    "        return True\n",
    "\n",
    "\n",
    "lst = [5,10,15,20,25,30,35,40,45,50]\n",
    "\n",
    "print(\"Output with built-in function filter() : \", list(filter(odd_number, lst)))\n",
    "\n",
    "\n",
    "def myfilter(function, sequence):  # creating custom myfilter function\n",
    "    new_list = []\n",
    "    for ele in sequence:\n",
    "        if function(ele) == True:\n",
    "            new_list.append(ele)\n",
    "    return new_list\n",
    "\n",
    "\n",
    "print(\"Output with custom myfilter() : \", list(myfilter(odd_number, lst)))"
   ]
  },
  {
   "cell_type": "markdown",
   "id": "d34efddf",
   "metadata": {},
   "source": [
    "2. Implement List comprehensions to produce the following lists. Write List comprehensions to produce the following Lists\n",
    "\n",
    "['x', 'xx', 'xxx', 'xxxx', 'y', 'yy', 'yyy', 'yyyy', 'z', 'zz', 'zzz', 'zzzz']\n",
    "\n",
    "['x', 'y', 'z', 'xx', 'yy', 'zz', 'xxx', 'yyy', 'zzz', 'xxxx', 'yyyy', 'zzzz']\n",
    "\n",
    "[[2], [3], [4], [3], [4], [5], [4], [5], [6]] \n",
    "\n",
    "[[2, 3, 4, 5], [3, 4, 5, 6], [4, 5, 6, 7], [5, 6, 7, 8]]\n",
    "\n",
    "[(1, 1), (2, 1), (3, 1), (1, 2), (2, 2), (3, 2), (1, 3), (2, 3), (3, 3)]"
   ]
  },
  {
   "cell_type": "code",
   "execution_count": 3,
   "id": "789536fb",
   "metadata": {},
   "outputs": [
    {
     "name": "stdout",
     "output_type": "stream",
     "text": [
      "['x', 'xx', 'xxx', 'xxxx', 'y', 'yy', 'yyy', 'yyyy', 'z', 'zz', 'zzz', 'zzzz'] \n",
      "\n",
      "['x', 'y', 'z', 'xx', 'yy', 'zz', 'xxx', 'yyy', 'zzz', 'xxxx', 'yyyy', 'zzzz'] \n",
      "\n",
      "[[2], [3], [4], [3], [4], [5], [4], [5], [6]] \n",
      "\n",
      "[[2, 3, 4, 5], [3, 4, 5, 6], [4, 5, 6, 7], [5, 6, 7, 8]] \n",
      "\n",
      "[(1, 1), (2, 1), (3, 1), (1, 2), (2, 2), (3, 2), (1, 3), (2, 3), (3, 3)]\n"
     ]
    }
   ],
   "source": [
    "# ['x', 'xx', 'xxx', 'xxxx', 'y', 'yy', 'yyy', 'yyyy', 'z', 'zz', 'zzz', 'zzzz']\n",
    "word_1 = list('xyz')\n",
    "new_word_1 = [x*n for x in word_1 for n in range(1,5)]\n",
    "print(new_word_1,\"\\n\")\n",
    "\n",
    "# ['x', 'y', 'z', 'xx', 'yy', 'zz', 'xxx', 'yyy', 'zzz', 'xxxx', 'yyyy', 'zzzz']\n",
    "word_3 = [x*n for n in range(1,5) for x in word_1]\n",
    "print(word_3,\"\\n\")\n",
    "\n",
    "# [[2], [3], [4], [3], [4], [5], [4], [5], [6]]\n",
    "num_1 = [2,3,4]\n",
    "new_num_1 = [[x+n] for x in num_1 for n in range(0,3)]\n",
    "print(new_num_1,\"\\n\")\n",
    "\n",
    "# [[2, 3, 4, 5], [3, 4, 5, 6], [4, 5, 6, 7], [5, 6, 7, 8]]\n",
    "num_2 = [2,3,4,5]\n",
    "new_num_2 = [[x+n for n in range(0,4)] for x in num_2] \n",
    "print(new_num_2,\"\\n\")\n",
    "\n",
    "# [(1, 1), (2, 1), (3, 1), (1, 2), (2, 2), (3, 2), (1, 3), (2, 3), (3, 3)]\n",
    "num_3 = [1,2,3]\n",
    "new_num_3 = [(b,a) for a in num_3 for b in num_3]\n",
    "print(new_num_3)\n"
   ]
  },
  {
   "cell_type": "code",
   "execution_count": null,
   "id": "dff570ac",
   "metadata": {},
   "outputs": [],
   "source": []
  }
 ],
 "metadata": {
  "kernelspec": {
   "display_name": "Python 3 (ipykernel)",
   "language": "python",
   "name": "python3"
  },
  "language_info": {
   "codemirror_mode": {
    "name": "ipython",
    "version": 3
   },
   "file_extension": ".py",
   "mimetype": "text/x-python",
   "name": "python",
   "nbconvert_exporter": "python",
   "pygments_lexer": "ipython3",
   "version": "3.9.7"
  }
 },
 "nbformat": 4,
 "nbformat_minor": 5
}
