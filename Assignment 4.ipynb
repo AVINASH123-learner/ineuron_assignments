{
 "cells": [
  {
   "cell_type": "markdown",
   "id": "8ba360a8",
   "metadata": {},
   "source": [
    "1.1 Write a Python Program(with class concepts) to find the area of the triangle using the below formula.\n",
    "\n",
    "area = (s*(s-a)*(s-b)*(s-c)) ** 0.5\n",
    "\n",
    "Function to take the length of the sides of triangle from user should be defined in the parent class and function to calculate the area should be defined in subclass."
   ]
  },
  {
   "cell_type": "code",
   "execution_count": 66,
   "id": "a1c6a4fe",
   "metadata": {},
   "outputs": [
    {
     "name": "stdout",
     "output_type": "stream",
     "text": [
      "a=1\n",
      "b=2\n",
      "c=3\n",
      "area : 0.0\n"
     ]
    }
   ],
   "source": [
    "class poly:\n",
    "    def __init__(self,a,b,c):\n",
    "        self.a = float(a)\n",
    "        self.b = float(b)\n",
    "        self.c = float(c)\n",
    "a= int(input(\"a=\"))\n",
    "b= int(input(\"b=\"))\n",
    "c= int(input(\"c=\"))\n",
    "\n",
    "class triangle(poly):\n",
    "    def __init__(self,a,b,c):\n",
    "        super().__init__(a,b,c)\n",
    "\n",
    "    def get_area(self):\n",
    "        s = (a + b + c) / 2\n",
    "        return (s*(s-a)*(s-b)*(s-c)) ** 0.5        \n",
    "\n",
    "t = triangle(a,b,c)\n",
    "print(\"area : {}\".format(t.get_area()))"
   ]
  },
  {
   "cell_type": "markdown",
   "id": "635a1ad8",
   "metadata": {},
   "source": [
    "1.2 Write a function filter_long_words() that takes a list of words and an integer n and   returns the list of words that are longer than n."
   ]
  },
  {
   "cell_type": "code",
   "execution_count": 33,
   "id": "cf021263",
   "metadata": {},
   "outputs": [
    {
     "data": {
      "text/plain": [
       "['Ineuron', 'best', 'place', 'learning', 'skills']"
      ]
     },
     "execution_count": 33,
     "metadata": {},
     "output_type": "execute_result"
    }
   ],
   "source": [
    "def filter_long_words(string,number):\n",
    "    listwords = []\n",
    "    for i in range(len(string)):\n",
    "        if len(string[i]) > number:\n",
    "            listwords.append(string[i])\n",
    "    return listwords\n",
    "\n",
    "test = [\"Ineuron\", \"is\", \"the\", \"best\", \"place\", \"for\", \"learning\", \"skills\"]\n",
    "filter_long_words(test, 3)"
   ]
  },
  {
   "cell_type": "markdown",
   "id": "5d75306b",
   "metadata": {},
   "source": [
    "2.1 Write a Python program using function concept that maps list of words into a list of integers representing the lengths of the corresponding words.\n",
    "\n",
    "Hint: If a list [ ab,cde,erty] is passed on to the python function output should come as [2,3,4] Here 2,3 and 4 are the lengths of the words in the list."
   ]
  },
  {
   "cell_type": "code",
   "execution_count": 3,
   "id": "173ff0d5",
   "metadata": {},
   "outputs": [
    {
     "name": "stdout",
     "output_type": "stream",
     "text": [
      "Please enter word: ab,cde,erty\n",
      "[2, 3, 4]\n"
     ]
    }
   ],
   "source": [
    "def map_of_word(lst):\n",
    "    return list(map(len,lst))\n",
    "\n",
    "word_list = input(\"Please enter word: \").split(\",\")\n",
    "lst = [x.strip() for x in word_list]\n",
    "\n",
    "words_length = map_of_word(lst)\n",
    "print(words_length)"
   ]
  },
  {
   "cell_type": "markdown",
   "id": "2967094a",
   "metadata": {},
   "source": [
    "2.2 Write a Python function which takes a character (i.e. a string of length 1) and returns True if it is a vowel, False otherwise."
   ]
  },
  {
   "cell_type": "code",
   "execution_count": 11,
   "id": "6d61a774",
   "metadata": {},
   "outputs": [
    {
     "data": {
      "text/plain": [
       "False"
      ]
     },
     "execution_count": 11,
     "metadata": {},
     "output_type": "execute_result"
    }
   ],
   "source": [
    "def is_vowel(char):\n",
    "    vowels = ('a', 'e', 'i', 'o', 'u')\n",
    "    if char not in vowels:\n",
    "        return False\n",
    "    return True\n",
    "\n",
    "is_vowel('d')"
   ]
  },
  {
   "cell_type": "code",
   "execution_count": null,
   "id": "256072be",
   "metadata": {},
   "outputs": [],
   "source": []
  }
 ],
 "metadata": {
  "kernelspec": {
   "display_name": "Python 3 (ipykernel)",
   "language": "python",
   "name": "python3"
  },
  "language_info": {
   "codemirror_mode": {
    "name": "ipython",
    "version": 3
   },
   "file_extension": ".py",
   "mimetype": "text/x-python",
   "name": "python",
   "nbconvert_exporter": "python",
   "pygments_lexer": "ipython3",
   "version": "3.9.7"
  }
 },
 "nbformat": 4,
 "nbformat_minor": 5
}
